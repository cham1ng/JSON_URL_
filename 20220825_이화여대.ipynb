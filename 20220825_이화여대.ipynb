{
  "nbformat": 4,
  "nbformat_minor": 0,
  "metadata": {
    "colab": {
      "provenance": [],
      "authorship_tag": "ABX9TyNodFxBaDRLNR5geGKgvawO"
    },
    "kernelspec": {
      "name": "python3",
      "display_name": "Python 3"
    },
    "language_info": {
      "name": "python"
    }
  },
  "cells": [
    {
      "cell_type": "code",
      "execution_count": null,
      "metadata": {
        "id": "5K4nIFuWoqsI"
      },
      "outputs": [],
      "source": [
        "#클래스 : 변수나 함수들을 모아놓은 주머니\n",
        "#붕어빵을 만드는 틀: 객체를 만들어 내는 것\n",
        "\n",
        "#class 클래스명, 맨앞은 대문자 추천\n",
        "#클래스 안에서 함수는 매개변수 칸에 self, 쓰고 이제 넣고 싶은 재료 쓰기\n",
        "#self는 객체 이름....음 일종의 빈킨?\n",
        "\n",
        "class Bank:\n",
        "    #초기화 함수 : 객체를 생성할 때, 자동으로 한 번 실행되는 함수\n",
        "    #사람만들고 예금을 안한 상태시, 조회시에 에러가 아닌 0으로 나오도록.\n",
        "    def __init__(self):\n",
        "        print(\"가입을 축하합니다\")\n",
        "        self.money = 0\n",
        "    def deposit(self, a):\n",
        "        self.money += a"
      ]
    },
    {
      "cell_type": "code",
      "source": [
        "person1 = Bank() #person1은 Bank에서 제공하는 모든 서비스를 사용할 수 있는 권한"
      ],
      "metadata": {
        "colab": {
          "base_uri": "https://localhost:8080/"
        },
        "id": "aldZy1QgvAWv",
        "outputId": "0815d179-7e97-4c65-950c-97a42b83be21"
      },
      "execution_count": null,
      "outputs": [
        {
          "output_type": "stream",
          "name": "stdout",
          "text": [
            "가입을 축하합니다\n"
          ]
        }
      ]
    },
    {
      "cell_type": "code",
      "source": [
        "person2 = Bank()"
      ],
      "metadata": {
        "colab": {
          "base_uri": "https://localhost:8080/"
        },
        "id": "aIfdAAY-vecN",
        "outputId": "f30f558f-69ae-43cf-f6c1-55931aca7b3a"
      },
      "execution_count": null,
      "outputs": [
        {
          "output_type": "stream",
          "name": "stdout",
          "text": [
            "가입을 축하합니다\n"
          ]
        }
      ]
    },
    {
      "cell_type": "code",
      "source": [
        "person1.deposit(30000)"
      ],
      "metadata": {
        "id": "pK4OYMEwvldN"
      },
      "execution_count": null,
      "outputs": []
    },
    {
      "cell_type": "code",
      "source": [
        "person2.deposit(50000)"
      ],
      "metadata": {
        "id": "GGO-z5PLvrjl"
      },
      "execution_count": null,
      "outputs": []
    },
    {
      "cell_type": "code",
      "source": [
        "person1.money"
      ],
      "metadata": {
        "colab": {
          "base_uri": "https://localhost:8080/"
        },
        "id": "OKz4lszQvudd",
        "outputId": "6eaae53a-d3b0-485c-9413-489d3fb58be5"
      },
      "execution_count": null,
      "outputs": [
        {
          "output_type": "execute_result",
          "data": {
            "text/plain": [
              "30000"
            ]
          },
          "metadata": {},
          "execution_count": 31
        }
      ]
    },
    {
      "cell_type": "code",
      "source": [
        "person2.money"
      ],
      "metadata": {
        "colab": {
          "base_uri": "https://localhost:8080/"
        },
        "id": "-heVvRAHv31N",
        "outputId": "f21769e7-7c5e-416b-df04-ec1fbeac8882"
      },
      "execution_count": null,
      "outputs": [
        {
          "output_type": "execute_result",
          "data": {
            "text/plain": [
              "50000"
            ]
          },
          "metadata": {},
          "execution_count": 32
        }
      ]
    },
    {
      "cell_type": "code",
      "source": [
        "person3 = Bank()"
      ],
      "metadata": {
        "colab": {
          "base_uri": "https://localhost:8080/"
        },
        "id": "igHgB71wv5Y8",
        "outputId": "fb605d18-3688-45f6-af26-53f2deca2346"
      },
      "execution_count": null,
      "outputs": [
        {
          "output_type": "stream",
          "name": "stdout",
          "text": [
            "가입을 축하합니다\n"
          ]
        }
      ]
    },
    {
      "cell_type": "code",
      "source": [
        "person3.money"
      ],
      "metadata": {
        "colab": {
          "base_uri": "https://localhost:8080/"
        },
        "id": "QqtYKjDLx9jm",
        "outputId": "47a83983-96bf-4716-aee2-39e4d27feec7"
      },
      "execution_count": null,
      "outputs": [
        {
          "output_type": "execute_result",
          "data": {
            "text/plain": [
              "0"
            ]
          },
          "metadata": {},
          "execution_count": 34
        }
      ]
    },
    {
      "cell_type": "code",
      "source": [
        "person3.deposit(30000)\n",
        "person3.deposit(50000)\n",
        "person3.money"
      ],
      "metadata": {
        "colab": {
          "base_uri": "https://localhost:8080/"
        },
        "id": "gf71gZxuyDxE",
        "outputId": "c901d5b6-4ecd-4488-a60e-0d6ab79fda95"
      },
      "execution_count": null,
      "outputs": [
        {
          "output_type": "execute_result",
          "data": {
            "text/plain": [
              "80000"
            ]
          },
          "metadata": {},
          "execution_count": 35
        }
      ]
    },
    {
      "cell_type": "code",
      "source": [
        "#Bank2 만들건데, Bank에서 가지고 있는 모든 기능을 상속 받는다.\n",
        "class Bank2(Bank):\n",
        "    pass"
      ],
      "metadata": {
        "id": "uizQd5bbzbn8"
      },
      "execution_count": null,
      "outputs": []
    },
    {
      "cell_type": "code",
      "source": [
        "person4 = Bank2()"
      ],
      "metadata": {
        "colab": {
          "base_uri": "https://localhost:8080/"
        },
        "id": "P34ZBuwY1Umd",
        "outputId": "ac0f874e-b6c4-45d6-d9bb-ea80cbdede7c"
      },
      "execution_count": null,
      "outputs": [
        {
          "output_type": "stream",
          "name": "stdout",
          "text": [
            "가입을 축하합니다\n"
          ]
        }
      ]
    },
    {
      "cell_type": "code",
      "source": [
        "#은행을 두가지 버전으로 만들고 싶어, 그러면 공통 기능 클래스 만들고 그걸 상속받은 기능 + 알파\n",
        "# 1등 : c언어 클래스 없음\n",
        "#c++ : c언어 +클래스\n"
      ],
      "metadata": {
        "id": "5GZXGznw1Xgt"
      },
      "execution_count": null,
      "outputs": []
    },
    {
      "cell_type": "code",
      "source": [
        "#내장함수\n",
        "\n",
        "#문자열로 된 파이썬 코드를 실행 eval()\n",
        "eval(\"\"\"print(\"hello world\")\"\"\") #어디서 복붙하느라 문자열로 가져옴 -> 이럴때 쓰임\n"
      ],
      "metadata": {
        "colab": {
          "base_uri": "https://localhost:8080/"
        },
        "id": "-rJM2T2a2Gs-",
        "outputId": "8d515ed4-dd1d-421d-a7a1-1ef936ed5c5b"
      },
      "execution_count": null,
      "outputs": [
        {
          "output_type": "stream",
          "name": "stdout",
          "text": [
            "hello world\n"
          ]
        }
      ]
    },
    {
      "cell_type": "code",
      "source": [
        "box = [1, -3, 2, 0, -5, 6] #bin.box ㅋㅋㅋ 인스타글램 계정\n",
        "box2 = []\n",
        "\n",
        "for i in box:\n",
        "    if i > 0:\n",
        "        box2.append(i)\n",
        "\n",
        "box2"
      ],
      "metadata": {
        "colab": {
          "base_uri": "https://localhost:8080/"
        },
        "id": "rMhx_kEi2kzt",
        "outputId": "44b20800-938d-4053-99f3-8cfd9d98c939"
      },
      "execution_count": null,
      "outputs": [
        {
          "output_type": "execute_result",
          "data": {
            "text/plain": [
              "[1, 2, 6]"
            ]
          },
          "metadata": {},
          "execution_count": 43
        }
      ]
    },
    {
      "cell_type": "code",
      "source": [
        "def test1(x):\n",
        "    return x > 0\n",
        "\n",
        "#filter(함수, 리스트 또는 튜플 이런 데이터 저장 박스)\n",
        "#그냥 실행시 <>어쩌고 객체로 나옴 -> list에 넣어주면 안에 얘들 볼 수 있음\n",
        "\n",
        "list(filter(test1, box)) #box안에 있는 요소중에 test1을 만족하는 얘들만 선별\n"
      ],
      "metadata": {
        "colab": {
          "base_uri": "https://localhost:8080/"
        },
        "id": "QwcytR3e3GCl",
        "outputId": "14860d34-ea64-4f32-ccc8-bd220c6c1c83"
      },
      "execution_count": null,
      "outputs": [
        {
          "output_type": "execute_result",
          "data": {
            "text/plain": [
              "[1, 2, 6]"
            ]
          },
          "metadata": {},
          "execution_count": 45
        }
      ]
    },
    {
      "cell_type": "code",
      "source": [
        "box = [1, -3, 2, 0, -5, 6]\n",
        "\n",
        "list(filter(lambda x: x>0, box)) #람다 응용"
      ],
      "metadata": {
        "colab": {
          "base_uri": "https://localhost:8080/"
        },
        "id": "5sVXvUZm9Sj9",
        "outputId": "8cef5a05-bea8-4f4b-b5cd-2d3ea1dba7ce"
      },
      "execution_count": null,
      "outputs": [
        {
          "output_type": "execute_result",
          "data": {
            "text/plain": [
              "[1, 2, 6]"
            ]
          },
          "metadata": {},
          "execution_count": 47
        }
      ]
    },
    {
      "cell_type": "code",
      "source": [
        "a = 3"
      ],
      "metadata": {
        "id": "TE6ae4TM-PPt"
      },
      "execution_count": null,
      "outputs": []
    },
    {
      "cell_type": "code",
      "source": [
        "id(a) #a가 저장된 곳의 주소"
      ],
      "metadata": {
        "colab": {
          "base_uri": "https://localhost:8080/"
        },
        "id": "S8nzcqA6-YMd",
        "outputId": "53d2a9f2-1ed6-4243-8da2-8faa28c1a99c"
      },
      "execution_count": null,
      "outputs": [
        {
          "output_type": "execute_result",
          "data": {
            "text/plain": [
              "11256128"
            ]
          },
          "metadata": {},
          "execution_count": 50
        }
      ]
    },
    {
      "cell_type": "code",
      "source": [
        "id(3) #3이 저장된 곳의 주소"
      ],
      "metadata": {
        "colab": {
          "base_uri": "https://localhost:8080/"
        },
        "id": "y9Q0ylOY-cTM",
        "outputId": "bf3c6b61-bd73-4e96-e176-1d258b00feb5"
      },
      "execution_count": null,
      "outputs": [
        {
          "output_type": "execute_result",
          "data": {
            "text/plain": [
              "11256128"
            ]
          },
          "metadata": {},
          "execution_count": 51
        }
      ]
    },
    {
      "cell_type": "code",
      "source": [
        "int('3') #문자열도 integer로 바꿔줌"
      ],
      "metadata": {
        "colab": {
          "base_uri": "https://localhost:8080/"
        },
        "id": "A-OMgJwO-kem",
        "outputId": "53f5a15d-55ba-4252-c79d-0317274a3273"
      },
      "execution_count": null,
      "outputs": [
        {
          "output_type": "execute_result",
          "data": {
            "text/plain": [
              "3"
            ]
          },
          "metadata": {},
          "execution_count": 52
        }
      ]
    },
    {
      "cell_type": "code",
      "source": [
        "int(3.141592)"
      ],
      "metadata": {
        "colab": {
          "base_uri": "https://localhost:8080/"
        },
        "id": "93TSyYSK_gaT",
        "outputId": "c43fca79-3f73-4080-b881-440f93f587c7"
      },
      "execution_count": null,
      "outputs": [
        {
          "output_type": "execute_result",
          "data": {
            "text/plain": [
              "3"
            ]
          },
          "metadata": {},
          "execution_count": 53
        }
      ]
    },
    {
      "cell_type": "code",
      "source": [
        "int('11', 2) #정수화 하고 싶은데 2진법이야."
      ],
      "metadata": {
        "colab": {
          "base_uri": "https://localhost:8080/"
        },
        "id": "RUvILLfmAn5T",
        "outputId": "714e4ea6-04a6-464f-8b76-5f460c389bf4"
      },
      "execution_count": null,
      "outputs": [
        {
          "output_type": "execute_result",
          "data": {
            "text/plain": [
              "3"
            ]
          },
          "metadata": {},
          "execution_count": 54
        }
      ]
    },
    {
      "cell_type": "code",
      "source": [
        "len('pythone')"
      ],
      "metadata": {
        "colab": {
          "base_uri": "https://localhost:8080/"
        },
        "id": "aoKqR-JfFAqv",
        "outputId": "07a2afcc-00e5-48fa-8703-5fc7d0878596"
      },
      "execution_count": null,
      "outputs": [
        {
          "output_type": "execute_result",
          "data": {
            "text/plain": [
              "7"
            ]
          },
          "metadata": {},
          "execution_count": 55
        }
      ]
    },
    {
      "cell_type": "code",
      "source": [
        "len([1,4,5,4,2])"
      ],
      "metadata": {
        "colab": {
          "base_uri": "https://localhost:8080/"
        },
        "id": "5N5NpV4pFHae",
        "outputId": "1defd06b-0d06-445e-9794-f658cd37c0f9"
      },
      "execution_count": null,
      "outputs": [
        {
          "output_type": "execute_result",
          "data": {
            "text/plain": [
              "5"
            ]
          },
          "metadata": {},
          "execution_count": 56
        }
      ]
    },
    {
      "cell_type": "code",
      "source": [
        "list(\"python\") #다 쪼개줌"
      ],
      "metadata": {
        "colab": {
          "base_uri": "https://localhost:8080/"
        },
        "id": "pRiaq2SRFJ-2",
        "outputId": "7f7da246-c234-4a79-ac0e-53e2dda52c6c"
      },
      "execution_count": null,
      "outputs": [
        {
          "output_type": "execute_result",
          "data": {
            "text/plain": [
              "['p', 'y', 't', 'h', 'o', 'n']"
            ]
          },
          "metadata": {},
          "execution_count": 57
        }
      ]
    },
    {
      "cell_type": "code",
      "source": [
        "a=(1,2,3)\n",
        "list(a)"
      ],
      "metadata": {
        "colab": {
          "base_uri": "https://localhost:8080/"
        },
        "id": "JClXbmcoFT1t",
        "outputId": "c8e7c06f-5569-4b10-dc45-f8b848d8ac25"
      },
      "execution_count": null,
      "outputs": [
        {
          "output_type": "execute_result",
          "data": {
            "text/plain": [
              "[1, 2, 3]"
            ]
          },
          "metadata": {},
          "execution_count": 58
        }
      ]
    },
    {
      "cell_type": "code",
      "source": [
        "list(range(2, 10, 3))"
      ],
      "metadata": {
        "colab": {
          "base_uri": "https://localhost:8080/"
        },
        "id": "wg_XKqwsFcY1",
        "outputId": "e935146f-7b91-4944-e008-60a0850fd488"
      },
      "execution_count": null,
      "outputs": [
        {
          "output_type": "execute_result",
          "data": {
            "text/plain": [
              "[2, 5, 8]"
            ]
          },
          "metadata": {},
          "execution_count": 59
        }
      ]
    },
    {
      "cell_type": "code",
      "source": [
        "box = [1,2,3,4] #문자 1, 2, 3, 4로 바꾸고 싶음\n",
        "box2 = []\n",
        "\n",
        "for i in box:\n",
        "    box2.append(str(i)) #str = string\n",
        "\n",
        "box2"
      ],
      "metadata": {
        "colab": {
          "base_uri": "https://localhost:8080/"
        },
        "id": "wXbyMrmdFez2",
        "outputId": "78bc8c07-d363-4d57-e603-c09c1dbd73d0"
      },
      "execution_count": null,
      "outputs": [
        {
          "output_type": "execute_result",
          "data": {
            "text/plain": [
              "['1', '2', '3', '4']"
            ]
          },
          "metadata": {},
          "execution_count": 60
        }
      ]
    },
    {
      "cell_type": "code",
      "source": [
        "list(map(str, box)) #box안에 있는 모든 요소에 str 함수를 적용한다.\n"
      ],
      "metadata": {
        "colab": {
          "base_uri": "https://localhost:8080/"
        },
        "id": "1vp7PaJfF2PV",
        "outputId": "9bc4597f-ecd6-423e-8f0c-665f80636560"
      },
      "execution_count": null,
      "outputs": [
        {
          "output_type": "execute_result",
          "data": {
            "text/plain": [
              "['1', '2', '3', '4']"
            ]
          },
          "metadata": {},
          "execution_count": 61
        }
      ]
    },
    {
      "cell_type": "code",
      "source": [
        "max([1,3,5,4,2])"
      ],
      "metadata": {
        "colab": {
          "base_uri": "https://localhost:8080/"
        },
        "id": "hsF45NgpGRYt",
        "outputId": "047c7ca7-49ba-408e-a468-d2e80ec50a53"
      },
      "execution_count": null,
      "outputs": [
        {
          "output_type": "execute_result",
          "data": {
            "text/plain": [
              "5"
            ]
          },
          "metadata": {},
          "execution_count": 62
        }
      ]
    },
    {
      "cell_type": "code",
      "source": [
        "min([1,3,5,4,2])"
      ],
      "metadata": {
        "colab": {
          "base_uri": "https://localhost:8080/"
        },
        "id": "6pQO-tI2GalO",
        "outputId": "ba7ab4d3-3fe2-4334-bfd2-d9cb2ea19322"
      },
      "execution_count": null,
      "outputs": [
        {
          "output_type": "execute_result",
          "data": {
            "text/plain": [
              "1"
            ]
          },
          "metadata": {},
          "execution_count": 63
        }
      ]
    },
    {
      "cell_type": "code",
      "source": [
        "sum([1,3,5,4,2])"
      ],
      "metadata": {
        "colab": {
          "base_uri": "https://localhost:8080/"
        },
        "id": "yoiDnCfFGc-2",
        "outputId": "c8452bda-686a-47c8-e975-c76b12a26b8a"
      },
      "execution_count": null,
      "outputs": [
        {
          "output_type": "execute_result",
          "data": {
            "text/plain": [
              "15"
            ]
          },
          "metadata": {},
          "execution_count": 64
        }
      ]
    },
    {
      "cell_type": "code",
      "source": [
        "round(4.6) #반올림 함수"
      ],
      "metadata": {
        "colab": {
          "base_uri": "https://localhost:8080/"
        },
        "id": "PFoR1xxDGe22",
        "outputId": "0ca0c79f-3ec7-480d-bcb7-ba61240f5f81"
      },
      "execution_count": null,
      "outputs": [
        {
          "output_type": "execute_result",
          "data": {
            "text/plain": [
              "5"
            ]
          },
          "metadata": {},
          "execution_count": 66
        }
      ]
    },
    {
      "cell_type": "code",
      "source": [
        "round(3.141592, 2)"
      ],
      "metadata": {
        "colab": {
          "base_uri": "https://localhost:8080/"
        },
        "id": "dd3C8vqfGm4A",
        "outputId": "5e21d784-fdd4-4b42-84b1-27fdd53459dd"
      },
      "execution_count": null,
      "outputs": [
        {
          "output_type": "execute_result",
          "data": {
            "text/plain": [
              "3.14"
            ]
          },
          "metadata": {},
          "execution_count": 67
        }
      ]
    },
    {
      "cell_type": "code",
      "source": [
        "sorted([1,3,5,4,2])"
      ],
      "metadata": {
        "colab": {
          "base_uri": "https://localhost:8080/"
        },
        "id": "rwTHtcnoGsjN",
        "outputId": "6e3a4451-f433-4e63-c28b-29fb36199f18"
      },
      "execution_count": null,
      "outputs": [
        {
          "output_type": "execute_result",
          "data": {
            "text/plain": [
              "[1, 2, 3, 4, 5]"
            ]
          },
          "metadata": {},
          "execution_count": 68
        }
      ]
    },
    {
      "cell_type": "code",
      "source": [
        "sorted('python') #문자열도 리스트로 정렬"
      ],
      "metadata": {
        "colab": {
          "base_uri": "https://localhost:8080/"
        },
        "id": "U_8L4BqAG2Y2",
        "outputId": "c3fb9bdc-036a-4479-a18e-1be9ee295751"
      },
      "execution_count": null,
      "outputs": [
        {
          "output_type": "execute_result",
          "data": {
            "text/plain": [
              "['h', 'n', 'o', 'p', 't', 'y']"
            ]
          },
          "metadata": {},
          "execution_count": 70
        }
      ]
    },
    {
      "cell_type": "code",
      "source": [
        "sorted(['car', 'apple', 'banana'])"
      ],
      "metadata": {
        "colab": {
          "base_uri": "https://localhost:8080/"
        },
        "id": "a7Rh7PENG9z9",
        "outputId": "f7cf6bc9-6f07-4f2c-bc72-8112a11c02ca"
      },
      "execution_count": null,
      "outputs": [
        {
          "output_type": "execute_result",
          "data": {
            "text/plain": [
              "['apple', 'banana', 'car']"
            ]
          },
          "metadata": {},
          "execution_count": 73
        }
      ]
    },
    {
      "cell_type": "code",
      "source": [
        "a= [1,2,3]\n",
        "tuple(a)"
      ],
      "metadata": {
        "colab": {
          "base_uri": "https://localhost:8080/"
        },
        "id": "jRSMCDdRHP7-",
        "outputId": "eb25e98e-1129-4fdf-afa4-9a8eb6551164"
      },
      "execution_count": null,
      "outputs": [
        {
          "output_type": "execute_result",
          "data": {
            "text/plain": [
              "(1, 2, 3)"
            ]
          },
          "metadata": {},
          "execution_count": 74
        }
      ]
    },
    {
      "cell_type": "code",
      "source": [
        "type('python') #자료형 확인"
      ],
      "metadata": {
        "colab": {
          "base_uri": "https://localhost:8080/"
        },
        "id": "-g5vY_gAHhcu",
        "outputId": "ca05cf59-3633-41c0-e6ed-85193e47bb82"
      },
      "execution_count": null,
      "outputs": [
        {
          "output_type": "execute_result",
          "data": {
            "text/plain": [
              "str"
            ]
          },
          "metadata": {},
          "execution_count": 76
        }
      ]
    },
    {
      "cell_type": "code",
      "source": [
        "type([1,3,5,4,2])"
      ],
      "metadata": {
        "colab": {
          "base_uri": "https://localhost:8080/"
        },
        "id": "4yIkRI5iHm3o",
        "outputId": "29901101-c5db-479c-dbae-e08c0a758eb1"
      },
      "execution_count": null,
      "outputs": [
        {
          "output_type": "execute_result",
          "data": {
            "text/plain": [
              "list"
            ]
          },
          "metadata": {},
          "execution_count": 77
        }
      ]
    },
    {
      "cell_type": "code",
      "source": [
        "a = [1,2,3]\n",
        "b = [4,5,6]\n",
        "\n",
        "for i, j in zip(a, b): #a를 i안에 넣고, b 를 j안에 넣는다.\n",
        "    print(i, j)\n"
      ],
      "metadata": {
        "colab": {
          "base_uri": "https://localhost:8080/"
        },
        "id": "b9hBr4b8HvE2",
        "outputId": "2a84ec0f-b5d6-4902-f46c-129870505801"
      },
      "execution_count": null,
      "outputs": [
        {
          "output_type": "stream",
          "name": "stdout",
          "text": [
            "1 4\n",
            "2 5\n",
            "3 6\n"
          ]
        }
      ]
    },
    {
      "cell_type": "code",
      "source": [
        "list(zip(a,b)) #list 안하면 객체로 보여줌."
      ],
      "metadata": {
        "colab": {
          "base_uri": "https://localhost:8080/"
        },
        "id": "3E9oY4JzIZwe",
        "outputId": "6e1aa53e-dee8-4198-8b33-e8d57c7f0eca"
      },
      "execution_count": null,
      "outputs": [
        {
          "output_type": "execute_result",
          "data": {
            "text/plain": [
              "[(1, 4), (2, 5), (3, 6)]"
            ]
          },
          "metadata": {},
          "execution_count": 79
        }
      ]
    },
    {
      "cell_type": "code",
      "source": [
        "#라이브러리 : 남이 만들어놓은 코드를 가져오는 것\n",
        "\n",
        "#파이썬 때매 유명해진 3가지\n",
        "#데이터 분석 도구 pandas\n",
        "#인공지능 머신러닝 tensorflow\n",
        "#선형대수학 numpy\n",
        "\n",
        "import calendar\n",
        "\n",
        "print(calendar.calendar(2025))"
      ],
      "metadata": {
        "colab": {
          "base_uri": "https://localhost:8080/"
        },
        "id": "CfzSy6RTI2hG",
        "outputId": "1dd80626-8928-4a27-e858-1ab65faf4021"
      },
      "execution_count": null,
      "outputs": [
        {
          "output_type": "stream",
          "name": "stdout",
          "text": [
            "                                  2025\n",
            "\n",
            "      January                   February                   March\n",
            "Mo Tu We Th Fr Sa Su      Mo Tu We Th Fr Sa Su      Mo Tu We Th Fr Sa Su\n",
            "       1  2  3  4  5                      1  2                      1  2\n",
            " 6  7  8  9 10 11 12       3  4  5  6  7  8  9       3  4  5  6  7  8  9\n",
            "13 14 15 16 17 18 19      10 11 12 13 14 15 16      10 11 12 13 14 15 16\n",
            "20 21 22 23 24 25 26      17 18 19 20 21 22 23      17 18 19 20 21 22 23\n",
            "27 28 29 30 31            24 25 26 27 28            24 25 26 27 28 29 30\n",
            "                                                    31\n",
            "\n",
            "       April                      May                       June\n",
            "Mo Tu We Th Fr Sa Su      Mo Tu We Th Fr Sa Su      Mo Tu We Th Fr Sa Su\n",
            "    1  2  3  4  5  6                1  2  3  4                         1\n",
            " 7  8  9 10 11 12 13       5  6  7  8  9 10 11       2  3  4  5  6  7  8\n",
            "14 15 16 17 18 19 20      12 13 14 15 16 17 18       9 10 11 12 13 14 15\n",
            "21 22 23 24 25 26 27      19 20 21 22 23 24 25      16 17 18 19 20 21 22\n",
            "28 29 30                  26 27 28 29 30 31         23 24 25 26 27 28 29\n",
            "                                                    30\n",
            "\n",
            "        July                     August                  September\n",
            "Mo Tu We Th Fr Sa Su      Mo Tu We Th Fr Sa Su      Mo Tu We Th Fr Sa Su\n",
            "    1  2  3  4  5  6                   1  2  3       1  2  3  4  5  6  7\n",
            " 7  8  9 10 11 12 13       4  5  6  7  8  9 10       8  9 10 11 12 13 14\n",
            "14 15 16 17 18 19 20      11 12 13 14 15 16 17      15 16 17 18 19 20 21\n",
            "21 22 23 24 25 26 27      18 19 20 21 22 23 24      22 23 24 25 26 27 28\n",
            "28 29 30 31               25 26 27 28 29 30 31      29 30\n",
            "\n",
            "      October                   November                  December\n",
            "Mo Tu We Th Fr Sa Su      Mo Tu We Th Fr Sa Su      Mo Tu We Th Fr Sa Su\n",
            "       1  2  3  4  5                      1  2       1  2  3  4  5  6  7\n",
            " 6  7  8  9 10 11 12       3  4  5  6  7  8  9       8  9 10 11 12 13 14\n",
            "13 14 15 16 17 18 19      10 11 12 13 14 15 16      15 16 17 18 19 20 21\n",
            "20 21 22 23 24 25 26      17 18 19 20 21 22 23      22 23 24 25 26 27 28\n",
            "27 28 29 30 31            24 25 26 27 28 29 30      29 30 31\n",
            "\n"
          ]
        }
      ]
    },
    {
      "cell_type": "code",
      "source": [
        "calendar.weekday(2015, 12, 31) #0이 월요일이니까 3은 목요일!"
      ],
      "metadata": {
        "colab": {
          "base_uri": "https://localhost:8080/"
        },
        "id": "G6GCn5QTJuXH",
        "outputId": "7d1ce78b-88b0-4a33-d906-3db8d0648423"
      },
      "execution_count": null,
      "outputs": [
        {
          "output_type": "execute_result",
          "data": {
            "text/plain": [
              "3"
            ]
          },
          "metadata": {},
          "execution_count": 83
        }
      ]
    },
    {
      "cell_type": "code",
      "source": [
        "#python 달력\n",
        "\n",
        "import time #데이커 크롤링시 상당히 도움! 그래서 거의 필수임\n",
        "\n",
        "time.time()"
      ],
      "metadata": {
        "colab": {
          "base_uri": "https://localhost:8080/"
        },
        "id": "8EhzKqtCKXEV",
        "outputId": "273e144d-fa8f-46bc-9c16-66773703d175"
      },
      "execution_count": null,
      "outputs": [
        {
          "output_type": "execute_result",
          "data": {
            "text/plain": [
              "1661668655.8868787"
            ]
          },
          "metadata": {},
          "execution_count": 84
        }
      ]
    },
    {
      "cell_type": "code",
      "source": [
        "time.ctime()"
      ],
      "metadata": {
        "colab": {
          "base_uri": "https://localhost:8080/",
          "height": 35
        },
        "id": "Ah5HHNGjK4Be",
        "outputId": "00a8ea19-ae5e-4a1e-841c-a8ac55c36a89"
      },
      "execution_count": null,
      "outputs": [
        {
          "output_type": "execute_result",
          "data": {
            "text/plain": [
              "'Sun Aug 28 06:59:48 2022'"
            ],
            "application/vnd.google.colaboratory.intrinsic+json": {
              "type": "string"
            }
          },
          "metadata": {},
          "execution_count": 85
        }
      ]
    },
    {
      "cell_type": "code",
      "source": [
        "for i in range(1, 11):\n",
        "    print(i)\n",
        "    time.sleep(3)"
      ],
      "metadata": {
        "colab": {
          "base_uri": "https://localhost:8080/"
        },
        "id": "Gptw1_zlP9Q1",
        "outputId": "e699386e-e516-4b91-9958-fa74e5758f82"
      },
      "execution_count": null,
      "outputs": [
        {
          "output_type": "stream",
          "name": "stdout",
          "text": [
            "1\n",
            "2\n",
            "3\n",
            "4\n",
            "5\n",
            "6\n",
            "7\n",
            "8\n",
            "9\n",
            "10\n"
          ]
        }
      ]
    },
    {
      "cell_type": "code",
      "source": [
        "#리스트, 딕셔너리, 문자열, 집합 == 클래스\n",
        "\n",
        "a= [1, 3, 5, 4, 2] #a에 list[~] 넣었다는 이야기는 a는 앞으로 리스트에서 제공하는 모든 함수를 쓸 수 있는 권한을 받은것. \n",
        "a.append(7)"
      ],
      "metadata": {
        "id": "IPyEXQdQQFlu"
      },
      "execution_count": null,
      "outputs": []
    },
    {
      "cell_type": "code",
      "source": [
        "import pickle #객체 자체를 저장하려면 메모장은 조금 힘듦. 이 라이브러리가 쉽게 저장 할 수 있음\n",
        "\n",
        "box = [1,3,5,4,2]\n",
        "\n",
        "f = open(\"my_data.dat\", \"wb\") #write binary\n",
        "pickle.dump(box, f) #box를 f에 쏟아버리겠다. (저장하겠다)\n",
        "f.close()"
      ],
      "metadata": {
        "id": "YrrGqMObR3_9"
      },
      "execution_count": null,
      "outputs": []
    },
    {
      "cell_type": "code",
      "source": [
        "f = open(\"my_data.dat\", \"rb\") #read binary\n",
        "\n",
        "data = pickle.load(f)\n",
        "\n",
        "f.close()\n",
        "\n",
        "data"
      ],
      "metadata": {
        "colab": {
          "base_uri": "https://localhost:8080/"
        },
        "id": "oVqZIbTVTTmH",
        "outputId": "3f050ff8-b3cd-422a-85b7-68264abe99af"
      },
      "execution_count": null,
      "outputs": [
        {
          "output_type": "execute_result",
          "data": {
            "text/plain": [
              "[1, 3, 5, 4, 2]"
            ]
          },
          "metadata": {},
          "execution_count": 92
        }
      ]
    },
    {
      "cell_type": "code",
      "source": [
        "data[0]"
      ],
      "metadata": {
        "colab": {
          "base_uri": "https://localhost:8080/"
        },
        "id": "aN6q1rssTrdV",
        "outputId": "520593f1-50e3-4d0e-c911-5c3447b6cfc5"
      },
      "execution_count": null,
      "outputs": [
        {
          "output_type": "execute_result",
          "data": {
            "text/plain": [
              "1"
            ]
          },
          "metadata": {},
          "execution_count": 93
        }
      ]
    },
    {
      "cell_type": "code",
      "source": [
        "#저장용: 엑셀 csv로 저장하시는 것보다 pickle\n",
        "#더 많은 데이터를 더 적은 용량, 속도도 훨씬 빠름.\n",
        "\n",
        "#import time #sleep만 쓰고 싶다! time을 다 가져오는건 용량 낭비\n",
        "from time import sleep\n",
        "\n",
        "for i in range(10):\n",
        "    print(i)\n",
        "    sleep(1) #time라이브러리를 가져온게 아니라 time.sleep은 불가능\n",
        "\n"
      ],
      "metadata": {
        "colab": {
          "base_uri": "https://localhost:8080/"
        },
        "id": "w8MZ8YV2TvKe",
        "outputId": "c5c9bc58-2316-4894-cee1-e31f9c8d417a"
      },
      "execution_count": null,
      "outputs": [
        {
          "output_type": "stream",
          "name": "stdout",
          "text": [
            "0\n",
            "1\n",
            "2\n",
            "3\n",
            "4\n",
            "5\n",
            "6\n",
            "7\n",
            "8\n",
            "9\n"
          ]
        }
      ]
    },
    {
      "cell_type": "code",
      "source": [
        "from time import sleep as sp #time라이브러리 안에 있는 sleep을 sp라는 이름으로 사용\n",
        "for i in range(10):\n",
        "    print(i)\n",
        "    sp(1)\n",
        "    "
      ],
      "metadata": {
        "colab": {
          "base_uri": "https://localhost:8080/"
        },
        "id": "Y6rTalDSgn59",
        "outputId": "ac315ed2-35aa-4215-b3ee-67fa51bf042a"
      },
      "execution_count": null,
      "outputs": [
        {
          "output_type": "stream",
          "name": "stdout",
          "text": [
            "0\n",
            "1\n",
            "2\n",
            "3\n",
            "4\n",
            "5\n",
            "6\n",
            "7\n",
            "8\n",
            "9\n"
          ]
        }
      ]
    },
    {
      "cell_type": "code",
      "source": [
        "for "
      ],
      "metadata": {
        "id": "ge8w0-5Gg5P8"
      },
      "execution_count": null,
      "outputs": []
    }
  ]
}